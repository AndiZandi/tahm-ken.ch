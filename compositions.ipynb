{
 "cells": [
  {
   "cell_type": "code",
   "execution_count": null,
   "id": "a952ec9e",
   "metadata": {},
   "outputs": [],
   "source": [
    "from challenges_tools import complete_comp\n",
    "from challenges_tools import find_challenges\n",
    "from champions_roles import best_fit_roles\n",
    "\n",
    "from collections import defaultdict\n",
    "import json\n",
    "import tqdm\n",
    "\n",
    "%reload_ext autoreload\n",
    "%autoreload 2"
   ]
  },
  {
   "cell_type": "code",
   "execution_count": null,
   "id": "30a76def",
   "metadata": {},
   "outputs": [],
   "source": [
    "comps = defaultdict(list)\n",
    "\n",
    "for comp in tqdm.tqdm(complete_comp(selected_champions=set([]), selected_challenges=set([]), limit=1e9)):\n",
    "    comp_challenges = find_challenges(comp)\n",
    "    if len(comp_challenges) < 6:\n",
    "        continue\n",
    "\n",
    "    comp_roles, stupidity_level, off_role = best_fit_roles(comp)\n",
    "    \n",
    "    comp_str = str(sorted(list(comp)))\n",
    "    key = f\"{len(comp_challenges)} challenges compositions\"\n",
    "    comps[key].append((comp_roles, list(comp_challenges), stupidity_level))"
   ]
  },
  {
   "cell_type": "code",
   "execution_count": null,
   "id": "d779d964",
   "metadata": {},
   "outputs": [],
   "source": [
    "comps = dict(comps)\n",
    "\n",
    "for k, v in comps.items():\n",
    "    print(k, len(v))"
   ]
  },
  {
   "cell_type": "code",
   "execution_count": null,
   "id": "f973c7da",
   "metadata": {},
   "outputs": [],
   "source": [
    "json.dump(comps, open(\"static/compositions.json\", \"w\"))"
   ]
  }
 ],
 "metadata": {
  "kernelspec": {
   "display_name": "Python 3.11.0 64-bit",
   "language": "python",
   "name": "python3"
  },
  "language_info": {
   "codemirror_mode": {
    "name": "ipython",
    "version": 3
   },
   "file_extension": ".py",
   "mimetype": "text/x-python",
   "name": "python",
   "nbconvert_exporter": "python",
   "pygments_lexer": "ipython3",
   "version": "3.11.0"
  },
  "vscode": {
   "interpreter": {
    "hash": "4a7ae44a6526a2c0e9d46e603c9c9fd3ab63685653f3a09c1fc1a2d964a91ac5"
   }
  }
 },
 "nbformat": 4,
 "nbformat_minor": 5
}
