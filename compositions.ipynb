{
 "cells": [
  {
   "cell_type": "code",
   "execution_count": 7,
   "id": "a952ec9e",
   "metadata": {},
   "outputs": [
    {
     "name": "stdout",
     "output_type": "stream",
     "text": [
      "The autoreload extension is already loaded. To reload it, use:\n",
      "  %reload_ext autoreload\n"
     ]
    }
   ],
   "source": [
    "from challenges_tools import challenges_data\n",
    "from challenges_tools import champions_by_challenge\n",
    "from challenges_tools import challenges_by_champions\n",
    "from challenges_tools import find_comp\n",
    "from challenges_tools import find_comp_randomly\n",
    "from challenges_tools import champions_probability_table\n",
    "from challenges_tools import plot_champion_distribution\n",
    "from champions_roles import best_fit_roles\n",
    "\n",
    "%load_ext autoreload\n",
    "%autoreload 2\n",
    "\n",
    "from collections import defaultdict\n",
    "import json"
   ]
  },
  {
   "cell_type": "code",
   "execution_count": 12,
   "id": "524a9211",
   "metadata": {},
   "outputs": [],
   "source": [
    "challenges = []\n",
    "for k, v in challenges_data.items():\n",
    "    challenges.extend(v)"
   ]
  },
  {
   "cell_type": "code",
   "execution_count": 8,
   "id": "65bcde45",
   "metadata": {},
   "outputs": [
    {
     "ename": "TypeError",
     "evalue": "list indices must be integers or slices, not str",
     "output_type": "error",
     "traceback": [
      "\u001b[1;31m---------------------------------------------------------------------------\u001b[0m",
      "\u001b[1;31mTypeError\u001b[0m                                 Traceback (most recent call last)",
      "\u001b[1;32mm:\\dev\\sites\\tahm-ken.ch\\challenges_intersection_league\\compositions.ipynb Cell 2\u001b[0m in \u001b[0;36m<cell line: 1>\u001b[1;34m()\u001b[0m\n\u001b[1;32m----> <a href='vscode-notebook-cell:/m%3A/dev/sites/tahm-ken.ch/challenges_intersection_league/compositions.ipynb#W1sZmlsZQ%3D%3D?line=0'>1</a>\u001b[0m n_champs_challenges \u001b[39m=\u001b[39m  {challenge[\u001b[39m\"\u001b[39m\u001b[39mid\u001b[39m\u001b[39m\"\u001b[39m] \u001b[39mfor\u001b[39;00m challenge \u001b[39min\u001b[39;00m challenges_data\u001b[39m.\u001b[39mvalues() \u001b[39mif\u001b[39;00m challenge[\u001b[39m\"\u001b[39m\u001b[39mqte\u001b[39m\u001b[39m\"\u001b[39m] \u001b[39m==\u001b[39m \u001b[39m5\u001b[39m \u001b[39mand\u001b[39;00m challenge[\u001b[39m\"\u001b[39m\u001b[39mid\u001b[39m\u001b[39m\"\u001b[39m] \u001b[39m!=\u001b[39m \u001b[39m303408\u001b[39m}\n\u001b[0;32m      <a href='vscode-notebook-cell:/m%3A/dev/sites/tahm-ken.ch/challenges_intersection_league/compositions.ipynb#W1sZmlsZQ%3D%3D?line=1'>2</a>\u001b[0m \u001b[39mprint\u001b[39m(n_champs_challenges)\n",
      "\u001b[1;32mm:\\dev\\sites\\tahm-ken.ch\\challenges_intersection_league\\compositions.ipynb Cell 2\u001b[0m in \u001b[0;36m<setcomp>\u001b[1;34m(.0)\u001b[0m\n\u001b[1;32m----> <a href='vscode-notebook-cell:/m%3A/dev/sites/tahm-ken.ch/challenges_intersection_league/compositions.ipynb#W1sZmlsZQ%3D%3D?line=0'>1</a>\u001b[0m n_champs_challenges \u001b[39m=\u001b[39m  {challenge[\u001b[39m\"\u001b[39m\u001b[39mid\u001b[39m\u001b[39m\"\u001b[39m] \u001b[39mfor\u001b[39;00m challenge \u001b[39min\u001b[39;00m challenges_data\u001b[39m.\u001b[39mvalues() \u001b[39mif\u001b[39;00m challenge[\u001b[39m\"\u001b[39;49m\u001b[39mqte\u001b[39;49m\u001b[39m\"\u001b[39;49m] \u001b[39m==\u001b[39m \u001b[39m5\u001b[39m \u001b[39mand\u001b[39;00m challenge[\u001b[39m\"\u001b[39m\u001b[39mid\u001b[39m\u001b[39m\"\u001b[39m] \u001b[39m!=\u001b[39m \u001b[39m303408\u001b[39m}\n\u001b[0;32m      <a href='vscode-notebook-cell:/m%3A/dev/sites/tahm-ken.ch/challenges_intersection_league/compositions.ipynb#W1sZmlsZQ%3D%3D?line=1'>2</a>\u001b[0m \u001b[39mprint\u001b[39m(n_champs_challenges)\n",
      "\u001b[1;31mTypeError\u001b[0m: list indices must be integers or slices, not str"
     ]
    }
   ],
   "source": [
    "n_champs_challenges =  {challenge[\"id\"] for challenge in challenges if challenge[\"qte\"] == 5 and challenge[\"id\"] != 303408}\n",
    "print(n_champs_challenges)"
   ]
  },
  {
   "cell_type": "code",
   "execution_count": null,
   "id": "dac754de",
   "metadata": {},
   "outputs": [],
   "source": [
    "# find best comp by faction\n",
    "n_champs_challenges_comps = defaultdict(list)\n",
    "\n",
    "for n_champs_challenge in n_champs_challenges:\n",
    "    c = champions_by_challenge[n_champs_challenge]\n",
    "    comps = []\n",
    "    for comp, comp_challenges in find_comp(c, threshold_min=2):\n",
    "        comp_roles, stupidity_level, off_role = best_fit_roles(comp)\n",
    "        comps.append((comp_roles, list(comp_challenges), stupidity_level))\n",
    "\n",
    "    comps.sort(key=lambda l: (-len(l[1]), l[2]))\n",
    "\n",
    "    n_champs_challenges_comps[n_champs_challenge] = comps\n",
    "\n",
    "n_champs_challenges_comps = dict(n_champs_challenges_comps)"
   ]
  },
  {
   "cell_type": "code",
   "execution_count": null,
   "id": "aac9c944",
   "metadata": {},
   "outputs": [],
   "source": [
    "for f, v in n_champs_challenges_comps.items():\n",
    "    print(f, len(v))"
   ]
  },
  {
   "cell_type": "code",
   "execution_count": null,
   "id": "007dcf85",
   "metadata": {},
   "outputs": [],
   "source": [
    "comp_found = set()\n",
    "comps_ = defaultdict(list)\n",
    "\n",
    "champions, p = champions_probability_table(power=4, alpha=0)\n",
    "plot_champion_distribution(champions, p)\n",
    "\n",
    "for comp, comp_challenges in find_comp_randomly(champions, p, max_depth=1e7):\n",
    "    if len(comp_challenges) < 6:\n",
    "        continue\n",
    "\n",
    "    comp_roles, stupidity_level, off_role = best_fit_roles(comp)\n",
    "    \n",
    "    comp_str = str(sorted(list(comp)))\n",
    "    if comp_str not in comp_found:\n",
    "        comp_found.add(comp_str)\n",
    "        key = f\"Best compositions ({len(comp_challenges)} challenges)\"\n",
    "        comps_[key].append((comp_roles, list(comp_challenges), stupidity_level))\n",
    "\n",
    "comps_ = dict(comps_)"
   ]
  },
  {
   "cell_type": "code",
   "execution_count": null,
   "id": "bc3c6985",
   "metadata": {},
   "outputs": [],
   "source": [
    "for k, v in comps_.items():\n",
    "    print(k, len(v))"
   ]
  },
  {
   "cell_type": "code",
   "execution_count": null,
   "id": "f973c7da",
   "metadata": {},
   "outputs": [],
   "source": [
    "json.dump(n_champs_challenges_comps | comps_, open(\"static/compositions.json\", \"w\"))"
   ]
  }
 ],
 "metadata": {
  "kernelspec": {
   "display_name": "Python 3.10.2 64-bit",
   "language": "python",
   "name": "python3"
  },
  "language_info": {
   "codemirror_mode": {
    "name": "ipython",
    "version": 3
   },
   "file_extension": ".py",
   "mimetype": "text/x-python",
   "name": "python",
   "nbconvert_exporter": "python",
   "pygments_lexer": "ipython3",
   "version": "3.10.2"
  },
  "vscode": {
   "interpreter": {
    "hash": "f30c937b6abe364228d7429c1d0c7a31858aa0c195e6a804665f69f0c413ac39"
   }
  }
 },
 "nbformat": 4,
 "nbformat_minor": 5
}
