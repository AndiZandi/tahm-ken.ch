{
 "cells": [
  {
   "cell_type": "code",
   "execution_count": null,
   "id": "a952ec9e",
   "metadata": {},
   "outputs": [],
   "source": [
    "from challenges_tools import challenges_data\n",
    "from challenges_tools import champions_by_challenge\n",
    "from challenges_tools import complete_comp\n",
    "from challenges_tools import find_challenges\n",
    "from challenges_tools import find_comp\n",
    "from challenges_tools import find_comp_randomly\n",
    "from challenges_tools import champions_probability_table\n",
    "from challenges_tools import plot_champion_distribution\n",
    "from champions_roles import best_fit_roles\n",
    "\n",
    "from collections import defaultdict\n",
    "import json\n",
    "import tqdm\n",
    "\n",
    "\n",
    "%reload_ext autoreload\n",
    "%autoreload 2"
   ]
  },
  {
   "cell_type": "code",
   "execution_count": null,
   "id": "524a9211",
   "metadata": {},
   "outputs": [],
   "source": [
    "challenges = []\n",
    "for k, v in challenges_data.items():\n",
    "    challenges.extend(v)"
   ]
  },
  {
   "cell_type": "code",
   "execution_count": null,
   "id": "65bcde45",
   "metadata": {},
   "outputs": [],
   "source": [
    "n_champs_challenges =  {challenge[\"id\"] for challenge in challenges if challenge[\"qte\"] == 5 and challenge[\"id\"] != 303408}\n",
    "print(n_champs_challenges)"
   ]
  },
  {
   "cell_type": "code",
   "execution_count": null,
   "id": "30a76def",
   "metadata": {},
   "outputs": [],
   "source": [
    "comps = []\n",
    "chall = {303407}\n",
    "champ = set()\n",
    "\n",
    "for i in tqdm.tqdm(complete_comp(champ, chall)):\n",
    "    challenges = find_challenges(i)\n",
    "    comps.append(i)\n",
    "\n",
    "print(len(comps))"
   ]
  },
  {
   "cell_type": "code",
   "execution_count": null,
   "id": "dac754de",
   "metadata": {},
   "outputs": [],
   "source": [
    "# find best comp by faction\n",
    "n_champs_challenges_comps = defaultdict(list)\n",
    "\n",
    "for n_champs_challenge in n_champs_challenges:\n",
    "    c = champions_by_challenge[n_champs_challenge]\n",
    "    comps = []\n",
    "    for comp, comp_challenges in find_comp(c, threshold_min=2):\n",
    "        comp_roles, stupidity_level, off_role = best_fit_roles(comp)\n",
    "        comps.append((comp_roles, list(comp_challenges), stupidity_level))\n",
    "\n",
    "    comps.sort(key=lambda l: (-len(l[1]), l[2]))\n",
    "    n_champs_challenges_comps[n_champs_challenge] = comps\n",
    "    print(n_champs_challenge, len(comps))\n",
    "\n",
    "n_champs_challenges_comps = dict(n_champs_challenges_comps)"
   ]
  },
  {
   "cell_type": "code",
   "execution_count": null,
   "id": "007dcf85",
   "metadata": {},
   "outputs": [],
   "source": [
    "comp_found = set()\n",
    "comps_ = defaultdict(list)\n",
    "\n",
    "champions, p = champions_probability_table(power=4, alpha=0)\n",
    "plot_champion_distribution(champions, p)\n",
    "\n",
    "for comp, comp_challenges in find_comp_randomly(champions, p, max_depth=1e7):\n",
    "    if len(comp_challenges) < 6:\n",
    "        continue\n",
    "\n",
    "    comp_roles, stupidity_level, off_role = best_fit_roles(comp)\n",
    "    \n",
    "    comp_str = str(sorted(list(comp)))\n",
    "    if comp_str not in comp_found:\n",
    "        comp_found.add(comp_str)\n",
    "        key = f\"Best compositions ({len(comp_challenges)} challenges)\"\n",
    "        comps_[key].append((comp_roles, list(comp_challenges), stupidity_level))\n",
    "\n",
    "comps_ = dict(comps_)"
   ]
  },
  {
   "cell_type": "code",
   "execution_count": null,
   "id": "bc3c6985",
   "metadata": {},
   "outputs": [],
   "source": [
    "for k, v in comps_.items():\n",
    "    print(k, len(v))"
   ]
  },
  {
   "cell_type": "code",
   "execution_count": null,
   "id": "f973c7da",
   "metadata": {},
   "outputs": [],
   "source": [
    "json.dump(n_champs_challenges_comps | comps_, open(\"static/compositions.json\", \"w\"))"
   ]
  },
  {
   "cell_type": "code",
   "execution_count": null,
   "id": "ed426e27",
   "metadata": {},
   "outputs": [],
   "source": []
  }
 ],
 "metadata": {
  "kernelspec": {
   "display_name": "Python 3.11.0 64-bit",
   "language": "python",
   "name": "python3"
  },
  "language_info": {
   "codemirror_mode": {
    "name": "ipython",
    "version": 3
   },
   "file_extension": ".py",
   "mimetype": "text/x-python",
   "name": "python",
   "nbconvert_exporter": "python",
   "pygments_lexer": "ipython3",
   "version": "3.11.0"
  },
  "vscode": {
   "interpreter": {
    "hash": "4a7ae44a6526a2c0e9d46e603c9c9fd3ab63685653f3a09c1fc1a2d964a91ac5"
   }
  }
 },
 "nbformat": 4,
 "nbformat_minor": 5
}
