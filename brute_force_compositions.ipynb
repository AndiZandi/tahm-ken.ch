{
 "cells": [
  {
   "cell_type": "code",
   "execution_count": null,
   "id": "3ba39f05",
   "metadata": {},
   "outputs": [],
   "source": [
    "import json\n",
    "import itertools\n",
    "from collections import defaultdict"
   ]
  },
  {
   "cell_type": "code",
   "execution_count": null,
   "id": "19524f79",
   "metadata": {},
   "outputs": [],
   "source": [
    "challenges = json.load(open(\"challenges.json\"))\n",
    "\n",
    "for c in challenges:\n",
    "    c[\"champions\"] = set(c[\"champions\"])\n",
    "    c[\"qte\"] = int(c[\"qte\"])\n",
    "    \n",
    "champions = set()\n",
    "for c in challenges:\n",
    "    champions |= c[\"champions\"]\n",
    "    \n",
    "print(len(champions))\n",
    "\n",
    "challenges_by_champions = defaultdict(list)\n",
    "for challenge in challenges:\n",
    "    for champion in challenge[\"champions\"]:\n",
    "        challenges_by_champions[champion].append(challenge[\"challenge_name\"])\n",
    "challenges_by_champions = dict(challenges_by_champions)\n",
    "\n",
    "champions_by_challenge = {}\n",
    "for challenge in challenges:\n",
    "    champions_by_challenge[challenge[\"challenge_name\"]] = challenge[\"champions\"]\n",
    "\n",
    "factions = {challenge[\"challenge_name\"] for challenge in challenges if challenge[\"qte\"] == 5}\n",
    "synergies = {challenge[\"challenge_name\"] for challenge in challenges if challenge[\"qte\"] == 3}\n",
    "\n",
    "print(factions)\n"
   ]
  },
  {
   "cell_type": "code",
   "execution_count": null,
   "id": "dac754de",
   "metadata": {},
   "outputs": [],
   "source": [
    "def find_challenges(comp):\n",
    "    chall = set()\n",
    "    for c in challenges:\n",
    "        if len(c[\"champions\"].intersection(comp)) >= c[\"qte\"]:\n",
    "            chall.add(c[\"challenge_name\"])\n",
    "    return chall\n",
    "\n",
    "\n",
    "find_challenges(set([\"Ahri\", \"Akali\", \"Shen\", \"Yasuo\", \"Zed\"]))"
   ]
  },
  {
   "cell_type": "code",
   "execution_count": null,
   "id": "359f0b7a",
   "metadata": {},
   "outputs": [],
   "source": [
    "def find_comp(champions_, threshold=0):\n",
    "    # sort them by number of challenges to find good match first\n",
    "    champions_ = list(champions_)\n",
    "    champions_.sort(key=lambda c: -len(challenges_by_champions[c]))\n",
    "    \n",
    "    # iterate over all champion combinations\n",
    "    for comp in itertools.combinations(champions_, 5):\n",
    "        comp_challenges = find_challenges(set(comp))\n",
    "        if len(comp_challenges) >= threshold:\n",
    "            yield comp, comp_challenges"
   ]
  },
  {
   "cell_type": "code",
   "execution_count": null,
   "id": "f837fad3",
   "metadata": {},
   "outputs": [],
   "source": [
    "# find best comp by faction\n",
    "\n",
    "for faction in factions:\n",
    "    print(faction)\n",
    "    c = champions_by_challenge[faction]\n",
    "    comps = []\n",
    "    for comp, comp_challenges in find_comp(c):\n",
    "        l = comp, len(comp_challenges)\n",
    "        comps.append(l)\n",
    "    \n",
    "    comps.sort(key=lambda l: -l[-1])\n",
    "    \n",
    "    best_comp_n = None\n",
    "    for comp, n in comps:\n",
    "        if best_comp_n is None:\n",
    "            best_comp_n = n\n",
    "            \n",
    "        if n <= best_comp_n - 2:\n",
    "            break\n",
    "            \n",
    "        print(n, comp)\n",
    "        \n",
    "    print()"
   ]
  },
  {
   "cell_type": "code",
   "execution_count": null,
   "id": "fab19a31",
   "metadata": {},
   "outputs": [],
   "source": [
    "# find best comps overall\n",
    "\n",
    "for comp, comp_challenges in find_comp(champions, 7):\n",
    "    print(len(comp_challenges), comp)"
   ]
  }
 ],
 "metadata": {
  "kernelspec": {
   "display_name": "Python 3 (ipykernel)",
   "language": "python",
   "name": "python3"
  },
  "language_info": {
   "codemirror_mode": {
    "name": "ipython",
    "version": 3
   },
   "file_extension": ".py",
   "mimetype": "text/x-python",
   "name": "python",
   "nbconvert_exporter": "python",
   "pygments_lexer": "ipython3",
   "version": "3.9.5"
  }
 },
 "nbformat": 4,
 "nbformat_minor": 5
}
