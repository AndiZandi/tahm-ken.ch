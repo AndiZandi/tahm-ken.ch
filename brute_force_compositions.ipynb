{
 "cells": [
  {
   "cell_type": "code",
   "execution_count": null,
   "id": "a952ec9e",
   "metadata": {},
   "outputs": [],
   "source": [
    "from challenges_tools import challenges\n",
    "from challenges_tools import champions_by_challenge\n",
    "from challenges_tools import challenges_by_champions\n",
    "from challenges_tools import find_comp\n",
    "from challenges_tools import find_comp_randomly\n",
    "from challenges_tools import champions_probability_table\n",
    "from challenges_tools import plot_champion_distribution\n",
    "\n",
    "%load_ext autoreload\n",
    "%autoreload 2\n",
    "\n",
    "from collections import defaultdict\n",
    "import json"
   ]
  },
  {
   "cell_type": "code",
   "execution_count": null,
   "id": "65bcde45",
   "metadata": {},
   "outputs": [],
   "source": [
    "factions = {challenge[\"challenge_name\"] for challenge in challenges if challenge[\"qte\"]\n",
    "            == 5 and challenge[\"challenge_name\"] not in [\"Variety's Overrated\"]}\n",
    "print(factions)"
   ]
  },
  {
   "cell_type": "code",
   "execution_count": null,
   "id": "dac754de",
   "metadata": {},
   "outputs": [],
   "source": [
    "# find best comp by faction\n",
    "factions_comps = defaultdict(list)\n",
    "\n",
    "for faction in factions:\n",
    "    c = champions_by_challenge[faction]\n",
    "    comps = []\n",
    "    for comp, comp_challenges in find_comp(c, threshold_min=2):\n",
    "        comps.append((comp, comp_challenges))\n",
    "\n",
    "    comps.sort(key=lambda l: -len(l[-1]))\n",
    "\n",
    "    factions_comps[faction] = comps\n",
    "    factions_comps[faction].sort(key=lambda c: -len(c[-1]))\n",
    "\n",
    "factions_comps = dict(factions_comps)"
   ]
  },
  {
   "cell_type": "code",
   "execution_count": null,
   "id": "aac9c944",
   "metadata": {},
   "outputs": [],
   "source": [
    "for f, v in factions_comps.items():\n",
    "    print(f, len(v))"
   ]
  },
  {
   "cell_type": "code",
   "execution_count": null,
   "id": "007dcf85",
   "metadata": {},
   "outputs": [],
   "source": [
    "comp_found = set()\n",
    "comps_ = defaultdict(list)\n",
    "\n",
    "champions, p = champions_probability_table(power=7, alpha=0)\n",
    "plot_champion_distribution(champions, p)\n",
    "\n",
    "for comp, comp_challenges in find_comp_randomly(champions, p, max_depth=1e5):\n",
    "    if len(comp_challenges) < 6:\n",
    "        continue\n",
    "    \n",
    "    comp_str = str(sorted(list(comp)))\n",
    "    if comp_str not in comp_found:\n",
    "        comp_found.add(comp_str)\n",
    "        key = f\"Best compositions ({len(comp_challenges)} challenges)\"\n",
    "        comps_[key].append((comp, list(comp_challenges)))"
   ]
  },
  {
   "cell_type": "code",
   "execution_count": null,
   "id": "bc3c6985",
   "metadata": {},
   "outputs": [],
   "source": [
    "for k, v in comps_.items():\n",
    "    print(k, len(v))"
   ]
  },
  {
   "cell_type": "code",
   "execution_count": null,
   "id": "8c9a86b3",
   "metadata": {},
   "outputs": [],
   "source": []
  },
  {
   "cell_type": "code",
   "execution_count": null,
   "id": "f973c7da",
   "metadata": {},
   "outputs": [],
   "source": [
    "json.dump(factions_comps | comps_, open(\"static/compositions.json\", \"w\"))"
   ]
  }
 ],
 "metadata": {
  "kernelspec": {
   "display_name": "Python 3.10.2 64-bit",
   "language": "python",
   "name": "python3"
  },
  "language_info": {
   "codemirror_mode": {
    "name": "ipython",
    "version": 3
   },
   "file_extension": ".py",
   "mimetype": "text/x-python",
   "name": "python",
   "nbconvert_exporter": "python",
   "pygments_lexer": "ipython3",
   "version": "3.10.2"
  },
  "vscode": {
   "interpreter": {
    "hash": "f30c937b6abe364228d7429c1d0c7a31858aa0c195e6a804665f69f0c413ac39"
   }
  }
 },
 "nbformat": 4,
 "nbformat_minor": 5
}
