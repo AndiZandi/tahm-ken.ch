{
 "cells": [
  {
   "cell_type": "code",
   "execution_count": 1,
   "id": "3ba39f05",
   "metadata": {},
   "outputs": [],
   "source": [
    "import json\n",
    "import itertools\n",
    "import sys\n",
    "from collections import defaultdict"
   ]
  },
  {
   "cell_type": "code",
   "execution_count": 2,
   "id": "19524f79",
   "metadata": {},
   "outputs": [
    {
     "name": "stdout",
     "output_type": "stream",
     "text": [
      "159\n",
      "{'The Sun Disc Never Sets', 'FOR DEMACIA', '(Inhuman Screeching Sounds)', \"5 Under 5'\", 'Spooky Scary Skeletons', 'Calculated', 'All Hands on Deck', 'Chemtech Comrades', 'Everybody was Wuju Fighting', 'Peak Performance', 'Elemental, My Dear Watson', 'Summoners on the Rift', 'Strength Above All', 'Ice, Ice, Baby'}\n"
     ]
    }
   ],
   "source": [
    "challenges = json.load(open(\"challenges.json\"))\n",
    "\n",
    "for c in challenges:\n",
    "    c[\"champions\"] = set(c[\"champions\"])\n",
    "    c[\"qte\"] = int(c[\"qte\"])\n",
    "    \n",
    "champions = set()\n",
    "for c in challenges:\n",
    "    champions |= c[\"champions\"]\n",
    "    \n",
    "print(len(champions))\n",
    "\n",
    "challenges_by_champions = defaultdict(list)\n",
    "for challenge in challenges:\n",
    "    for champion in challenge[\"champions\"]:\n",
    "        challenges_by_champions[champion].append(challenge[\"challenge_name\"])\n",
    "challenges_by_champions = dict(challenges_by_champions)\n",
    "\n",
    "champions_by_challenge = {}\n",
    "for challenge in challenges:\n",
    "    champions_by_challenge[challenge[\"challenge_name\"]] = challenge[\"champions\"]\n",
    "\n",
    "factions = {challenge[\"challenge_name\"] for challenge in challenges if challenge[\"qte\"] == 5}\n",
    "synergies = {challenge[\"challenge_name\"] for challenge in challenges if challenge[\"qte\"] == 3}\n",
    "\n",
    "print(factions)\n"
   ]
  },
  {
   "cell_type": "code",
   "execution_count": 3,
   "id": "dac754de",
   "metadata": {},
   "outputs": [
    {
     "data": {
      "text/plain": [
       "{'Everybody was Wuju Fighting'}"
      ]
     },
     "execution_count": 3,
     "metadata": {},
     "output_type": "execute_result"
    }
   ],
   "source": [
    "def find_challenges(comp):\n",
    "    chall = set()\n",
    "    for c in challenges:\n",
    "        if len(c[\"champions\"].intersection(comp)) >= c[\"qte\"]:\n",
    "            chall.add(c[\"challenge_name\"])\n",
    "    return chall\n",
    "\n",
    "\n",
    "find_challenges(set([\"Ahri\", \"Akali\", \"Shen\", \"Yasuo\", \"Zed\"]))"
   ]
  },
  {
   "cell_type": "code",
   "execution_count": 4,
   "id": "359f0b7a",
   "metadata": {},
   "outputs": [],
   "source": [
    "def find_comp(champions_, threshold_min=0, threshold_max=sys.maxsize, max_depth=1e7):\n",
    "    # sort them by number of challenges to find good match first\n",
    "    champions_ = list(champions_)\n",
    "    champions_.sort(key=lambda c: -len(challenges_by_champions[c]))\n",
    "    \n",
    "    # iterate over all champion combinations\n",
    "    i = 0\n",
    "    for comp in itertools.combinations(champions_, 5):\n",
    "        comp_challenges = find_challenges(set(comp))\n",
    "        if threshold_min <= len(comp_challenges) <= threshold_max:\n",
    "            yield comp, comp_challenges\n",
    "\n",
    "        if i > max_depth:\n",
    "            return\n",
    "        i+=1"
   ]
  },
  {
   "cell_type": "code",
   "execution_count": 5,
   "id": "f837fad3",
   "metadata": {},
   "outputs": [
    {
     "name": "stdout",
     "output_type": "stream",
     "text": [
      "The Sun Disc Never Sets 233\n",
      "FOR DEMACIA 1664\n",
      "(Inhuman Screeching Sounds) 57\n",
      "5 Under 5' 2212\n",
      "Spooky Scary Skeletons 570\n",
      "Calculated 112\n",
      "All Hands on Deck 96\n",
      "Chemtech Comrades 1868\n",
      "Everybody was Wuju Fighting 4244\n",
      "Peak Performance 28\n",
      "Elemental, My Dear Watson 6\n",
      "Summoners on the Rift 7191\n",
      "Strength Above All 1246\n",
      "Ice, Ice, Baby 1644\n"
     ]
    }
   ],
   "source": [
    "# find best comp by faction\n",
    "factions_comps = defaultdict(list)\n",
    "\n",
    "for faction in factions:\n",
    "    c = champions_by_challenge[faction]\n",
    "    comps = []\n",
    "    for comp, comp_challenges in find_comp(c, threshold_min=2):\n",
    "        l = comp, comp_challenges\n",
    "        comps.append(l)\n",
    "    \n",
    "    comps.sort(key=lambda l: -len(l[-1]))\n",
    "    \n",
    "    best_comp_n = None\n",
    "    for comp, comp_challenges in comps:\n",
    "        n = len(comp_challenges)\n",
    "        if best_comp_n is None:\n",
    "            best_comp_n = n\n",
    "        \n",
    "        factions_comps[faction].append((comp, list(comp_challenges)))\n",
    "\n",
    "    factions_comps[faction].sort(key=lambda c: -len(c[-1]))\n",
    "\n",
    "factions_comps = dict(factions_comps)\n",
    "\n",
    "for f, v in factions_comps.items():\n",
    "    print(f, len(v))\n",
    "\n",
    "json.dump(factions_comps, open(\"factions_compositions.json\", \"w\"))"
   ]
  },
  {
   "cell_type": "code",
   "execution_count": 10,
   "id": "fab19a31",
   "metadata": {},
   "outputs": [],
   "source": [
    "# find best comps overall\n",
    "comps_ = []\n",
    "\n",
    "\n",
    "for comp, comp_challenges in find_comp(champions, 7, max_depth=1e8):\n",
    "    comps_.append((comp, list(comp_challenges)))\n",
    "\n",
    "print(len(comps_))\n",
    "    \n",
    "json.dump(comps_, open(\"compositions.json\", \"w\"))"
   ]
  },
  {
   "cell_type": "code",
   "execution_count": null,
   "id": "fd0e0bad",
   "metadata": {},
   "outputs": [],
   "source": []
  }
 ],
 "metadata": {
  "kernelspec": {
   "display_name": "Python 3.10.2 64-bit",
   "language": "python",
   "name": "python3"
  },
  "language_info": {
   "codemirror_mode": {
    "name": "ipython",
    "version": 3
   },
   "file_extension": ".py",
   "mimetype": "text/x-python",
   "name": "python",
   "nbconvert_exporter": "python",
   "pygments_lexer": "ipython3",
   "version": "3.10.2"
  },
  "vscode": {
   "interpreter": {
    "hash": "f30c937b6abe364228d7429c1d0c7a31858aa0c195e6a804665f69f0c413ac39"
   }
  }
 },
 "nbformat": 4,
 "nbformat_minor": 5
}
