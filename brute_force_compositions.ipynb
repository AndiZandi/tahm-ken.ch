{
 "cells": [
  {
   "cell_type": "code",
   "execution_count": null,
   "id": "3ba39f05",
   "metadata": {},
   "outputs": [],
   "source": [
    "import json\n",
    "import itertools"
   ]
  },
  {
   "cell_type": "code",
   "execution_count": null,
   "id": "19524f79",
   "metadata": {},
   "outputs": [],
   "source": [
    "challenges = json.load(open(\"challenges.json\"))\n",
    "\n",
    "for c in challenges:\n",
    "    c[\"champions\"] = set(c[\"champions\"])\n",
    "    c[\"qte\"] = int(c[\"qte\"])\n",
    "    \n",
    "champions = set()\n",
    "for c in challenges:\n",
    "    champions |= c[\"champions\"]\n",
    "    \n",
    "len(champions)"
   ]
  },
  {
   "cell_type": "code",
   "execution_count": null,
   "id": "dac754de",
   "metadata": {},
   "outputs": [],
   "source": [
    "def find_challenges(comp):\n",
    "    chall = set()\n",
    "    for c in challenges:\n",
    "        if len(c[\"champions\"].intersection(comp)) >= c[\"qte\"]:\n",
    "            chall.add(c[\"challenge_name\"])\n",
    "    return chall\n",
    "\n",
    "\n",
    "find_challenges(set([\"Ahri\", \"Akali\", \"Shen\", \"Yasuo\", \"Zed\"]))"
   ]
  },
  {
   "cell_type": "code",
   "execution_count": null,
   "id": "349244a3",
   "metadata": {},
   "outputs": [],
   "source": [
    "champ_challenges = []\n",
    "\n",
    "for champ in champions:\n",
    "    challenges_for_this_champ = list()\n",
    "    for challenge in challenges:\n",
    "        if champ in challenge[\"champions\"] and challenge[\"qte\"] == 3:\n",
    "            challenges_for_this_champ.append(challenge[\"challenge_name\"])\n",
    "\n",
    "    champ_challenges.append((champ, len(challenges_for_this_champ)))\n",
    "\n",
    "# sort them to find interesting comp first\n",
    "champ_challenges.sort(key=lambda l: -l[-1])\n",
    "print(champ_challenges)\n",
    "\n",
    "# restrict the champions with only usefull champions to big a lot of challenges\n",
    "restricted_champions = [c for c, chall in champ_challenges if chall >= 2]\n",
    "print(len(restricted_champions))\n",
    "print(restricted_champions)"
   ]
  },
  {
   "cell_type": "code",
   "execution_count": null,
   "id": "fab19a31",
   "metadata": {},
   "outputs": [],
   "source": [
    "comps = []\n",
    "\n",
    "for comp in itertools.combinations(restricted_champions, 5):\n",
    "    comp = set(comp)\n",
    "    comp_challenges = find_challenges(comp)\n",
    "    if len(comp_challenges) >= 8:\n",
    "        comp = list(comp)\n",
    "        comp.sort()\n",
    "        print(\", \".join(comp))\n",
    "        print(\", \".join(comp_challenges))\n",
    "        comps.append(comp)\n",
    "    if len(comp_challenges) >= 9:\n",
    "        print(\"!!!!!!!!!!\")"
   ]
  },
  {
   "cell_type": "code",
   "execution_count": null,
   "id": "84ca1596",
   "metadata": {
    "scrolled": true
   },
   "outputs": [],
   "source": [
    "print(comps)"
   ]
  }
 ],
 "metadata": {
  "kernelspec": {
   "display_name": "Python 3 (ipykernel)",
   "language": "python",
   "name": "python3"
  },
  "language_info": {
   "codemirror_mode": {
    "name": "ipython",
    "version": 3
   },
   "file_extension": ".py",
   "mimetype": "text/x-python",
   "name": "python",
   "nbconvert_exporter": "python",
   "pygments_lexer": "ipython3",
   "version": "3.9.5"
  }
 },
 "nbformat": 4,
 "nbformat_minor": 5
}
